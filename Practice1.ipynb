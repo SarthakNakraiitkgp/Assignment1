{
 "cells": [
  {
   "cell_type": "markdown",
   "id": "ff0596ba-72bc-4f38-b211-89f2637bc56f",
   "metadata": {},
   "source": [
    "1. Python Programming Language was developed by Guido an Rossum, in 1991."
   ]
  },
  {
   "cell_type": "markdown",
   "id": "13cb5085-caca-4508-a202-a0f74f577207",
   "metadata": {},
   "source": [
    "2. Python supports Object Oriented Programming, Structural Programming and Functional Programming. "
   ]
  },
  {
   "cell_type": "markdown",
   "id": "ea28177c-8ad9-4f94-a54a-2e454c7b3df2",
   "metadata": {},
   "source": [
    "3. While dealing with Identifiers, Python is a case sensitive language."
   ]
  },
  {
   "cell_type": "markdown",
   "id": "e4b8982f-32f5-4dd1-a6be-4906ced201ad",
   "metadata": {},
   "source": [
    "4. Correct extension for python file is .ipynb in jupiter and .py in any platform we can see."
   ]
  },
  {
   "cell_type": "markdown",
   "id": "fdf5da0b-824a-4e6c-88af-34bf4b3553a8",
   "metadata": {},
   "source": [
    "5. Python codes are interpreted not compiled"
   ]
  },
  {
   "cell_type": "markdown",
   "id": "5fb6073a-e244-418c-9249-5028a6e4342c",
   "metadata": {},
   "source": [
    "6. a few block of code used to define python language are:\n",
    "    1.if else,\n",
    "    2.while,\n",
    "    3.for."
   ]
  },
  {
   "cell_type": "markdown",
   "id": "2452ac8c-b71f-471a-82de-227df046aca6",
   "metadata": {},
   "source": [
    "7. \"#\" is a character used to give single line comment in python."
   ]
  },
  {
   "cell_type": "markdown",
   "id": "bd2e5556-a017-4cea-8fc6-187efd312fc5",
   "metadata": {},
   "source": [
    "8. To check the current version of python we can use the following functions:\n",
    "    1.sys.version\n",
    "    2.python_version()\n",
    "    3.python-V command"
   ]
  },
  {
   "cell_type": "markdown",
   "id": "45f5146f-60e7-4976-b211-d11e71ff5d4e",
   "metadata": {},
   "source": [
    "9. Lambda function"
   ]
  },
  {
   "cell_type": "markdown",
   "id": "c758d977-8c40-40eb-863f-f18b229fb1b8",
   "metadata": {},
   "source": [
    "10. PIP stands for Preferred Installer Program"
   ]
  },
  {
   "cell_type": "markdown",
   "id": "1f46be1c-8de8-4116-9160-e7c6c0a62728",
   "metadata": {},
   "source": [
    "11. Build in functions in python are:\n",
    "    1.print()\n",
    "    2.dict()\n",
    "    3.class()\n",
    "    4.float()\n",
    "    5.len()\n",
    "    "
   ]
  },
  {
   "cell_type": "markdown",
   "id": "549bf03b-42fc-4f6f-80a6-7687d1196033",
   "metadata": {},
   "source": [
    "12. An Identifier can have a maximum possible length of 79 characters."
   ]
  },
  {
   "cell_type": "markdown",
   "id": "bcee7328-73d6-493b-bd84-dc14fe8f84c6",
   "metadata": {},
   "source": [
    "13. There are following benefits of using Python:\n",
    "    1. Python is easy to understand.\n",
    "    2. It is a dynamically typed language.\n",
    "    3. It is widely used by the working professional as well as by the developers in field of Data Science amd Machine Learning"
   ]
  },
  {
   "cell_type": "markdown",
   "id": "4654e1d9-f47b-414d-9b7a-adb0c1f0267c",
   "metadata": {},
   "source": [
    "14. Memory in Python is managed by Python private Heap Space. All python Objects and Data structures are located in a private Heap."
   ]
  },
  {
   "cell_type": "markdown",
   "id": "344539ca-86a2-4630-9e23-9a33560c1692",
   "metadata": {},
   "source": [
    "15. To install Python on windows and to set path variables there are following steps to follow:\n",
    "    1. Download the Python installer binaries from official pthon website, click the link to download the application.\n",
    "    2. Install the Launcher and further you may check add python to path.\n",
    "    3. While installing there is an option comes that you have to select like Add Python to Environment Variable.\n",
    "    4. To set path variables we can also follow one step ie, while selecting properties -> Advanced system setting -> Environment Variable -> in the system variable section select the path variable the click on edit. after that a new screen will open where all directories are showing, there you have to click new amd entering python's install directory "
   ]
  },
  {
   "cell_type": "markdown",
   "id": "063c2e92-2e03-4057-94f0-486adbbfa605",
   "metadata": {},
   "source": [
    "16. Yes, Indentation is required in Python as Python uses Indentation to indicate a block of code."
   ]
  },
  {
   "cell_type": "code",
   "execution_count": null,
   "id": "be6415ac-c66c-4e0c-94a5-c2d66d79157d",
   "metadata": {},
   "outputs": [],
   "source": []
  }
 ],
 "metadata": {
  "kernelspec": {
   "display_name": "Python 3 (ipykernel)",
   "language": "python",
   "name": "python3"
  },
  "language_info": {
   "codemirror_mode": {
    "name": "ipython",
    "version": 3
   },
   "file_extension": ".py",
   "mimetype": "text/x-python",
   "name": "python",
   "nbconvert_exporter": "python",
   "pygments_lexer": "ipython3",
   "version": "3.10.8"
  }
 },
 "nbformat": 4,
 "nbformat_minor": 5
}
